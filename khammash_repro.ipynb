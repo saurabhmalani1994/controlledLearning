{
 "cells": [
  {
   "cell_type": "code",
   "execution_count": 14,
   "metadata": {},
   "outputs": [],
   "source": [
    "import numpy as np\n",
    "import matplotlib.pyplot as plt\n",
    "from scipy.integrate import solve_ivp"
   ]
  },
  {
   "cell_type": "code",
   "execution_count": 15,
   "metadata": {},
   "outputs": [],
   "source": [
    "# Units\n",
    "nM = 1\n",
    "\n",
    "min = 1"
   ]
  },
  {
   "cell_type": "code",
   "execution_count": 16,
   "metadata": {},
   "outputs": [],
   "source": [
    "# Parameters\n",
    "\n",
    "#PVAR\n",
    "alpha_T  = 7.2e-3\n",
    "alpha_C = 6.467e-6\n",
    "KG = 57.1585\n",
    "hON_min = 2.0202e-7\n",
    "hON_max = 2.0020e-5\n",
    "KL = 1.9851e3\n",
    "nL = 1.3548\n",
    "nG = 1.5557\n",
    "hC = 1.5388\n",
    "gamma_mol2fluo = 0.2549\n",
    "L0 = 196.3930\n",
    "\n",
    "# alpha_T  = 1e-3\n",
    "# alpha_C = 0.0035\n",
    "# KG = 8\n",
    "# hON_min = 2.5e-7\n",
    "# hON_max = 1e-6 * 100\n",
    "# KL = 80\n",
    "# nL = 3\n",
    "# nG = 4\n",
    "# hC = 1.200\n",
    "# gamma_mol2fluo = 0.1000\n",
    "# L0 = 180\n",
    "\n",
    "# alpha_T  = 0.0354\n",
    "# alpha_C = 1.38e-5\n",
    "# KG = 174.0215\n",
    "# hON_min = 3.9848e-8\n",
    "# hON_max = 8.1092e-7\n",
    "# KL = 959.9107\n",
    "# nL = 1.3115\n",
    "# nG = 2.5157\n",
    "# hC = 1.200\n",
    "# gamma_mol2fluo = 0.1000\n",
    "# L0 = 180\n",
    "\n",
    "#PFIX\n",
    "Np = 10\n",
    "KD = 1300\n",
    "KC = 0.3333\n",
    "kappa = 90\n",
    "nr = 12221\n",
    "nT = 597\n",
    "nC = 219\n",
    "g0 = 0.0987\n",
    "PhiR_max = 0.5470\n",
    "PhiR0 = 0.0660\n",
    "rho_cell = 2e9\n",
    "nu = 0.1921\n",
    "AE = 10.5e3"
   ]
  },
  {
   "cell_type": "code",
   "execution_count": 17,
   "metadata": {},
   "outputs": [],
   "source": [
    "# ODEs\n",
    "\n",
    "def odefun(t,x,lambda_c, L):\n",
    "    Tt, Td, C, phi_p = x\n",
    "    Tt = np.max([Tt, 0])\n",
    "    Td = np.max([Td, 0])\n",
    "    C = np.max([C, 0])\n",
    "    phi_p = np.max([phi_p, 0])\n",
    "\n",
    "    # Algebraic variables\n",
    "    PhiS = (nT * Tt + nC * C) / rho_cell\n",
    "    lambda_p = (PhiR_max - PhiR0 - PhiS) * (nu * g0) / (g0 + nu * (1 + (AE/KD)/(1+((C/(kappa * KC)) ** hC))))\n",
    "\n",
    "    # print(lambda_p)\n",
    "\n",
    "    # Useful functions\n",
    "    hON = hON_min + (hON_max - hON_min) * (L ** nL) / (L ** nL + KL ** nL)\n",
    "    gON = Np * Td ** nG / (Td ** nG + KG ** nG)\n",
    "\n",
    "    # Unbound ribosomes\n",
    "    r_u = rho_cell * lambda_p / (nr*g0)\n",
    "\n",
    "    # print(hON)\n",
    "\n",
    "    ddt = np.zeros(4)\n",
    "    # ddt[0] = alpha_T * lambda_p ** 2 / nu - lambda_p * Tt # dTt/dt\n",
    "    # ddt[1] = hON * (Tt - 2 * (Td + gON)) ** 2 - lambda_p * (Td+gON) # dTd/dt\n",
    "    # ddt[2] = alpha_C * (lambda_p / nu) * gON - lambda_p * C # dC/dt\n",
    "    # ddt[3] = (lambda_p - lambda_c) * (1 - phi_p) * phi_p # dphi_p/dt\n",
    "\n",
    "    ddt[0] = alpha_T * lambda_p * r_u / nu - lambda_p * Tt # dTt/dt\n",
    "    ddt[1] = hON * (Tt - 2 * (Td + gON)) ** 2 - lambda_p * (Td+gON) # dTd/dt\n",
    "    ddt[2] = alpha_C * (r_u / nu) * gON - lambda_p * C # dC/dt\n",
    "    ddt[3] = (lambda_p - lambda_c) * (1 - phi_p) * phi_p # dphi_p/dt\n",
    "\n",
    "    return ddt\n"
   ]
  },
  {
   "cell_type": "code",
   "execution_count": 18,
   "metadata": {},
   "outputs": [
    {
     "name": "stdout",
     "output_type": "stream",
     "text": [
      "[1.85530895e-04 1.38351109e-10 5.66532285e-14 5.00000000e-01]\n",
      "[ 1.52276605e+00 -2.57000655e-16 -2.78091833e-16 -5.36121129e-03]\n"
     ]
    }
   ],
   "source": [
    "print(initial_sol.y[:,-1])\n",
    "print(odefun(0, initial_sol.y[:,-1], lambda_c, L_BLOOP))"
   ]
  },
  {
   "cell_type": "code",
   "execution_count": 40,
   "metadata": {},
   "outputs": [
    {
     "data": {
      "text/plain": [
       "0.0263949125"
      ]
     },
     "execution_count": 40,
     "metadata": {},
     "output_type": "execute_result"
    }
   ],
   "source": [
    "lambda_c = 1.58369475/60\n",
    "L_BLOOP = 196.3930\n",
    "\n",
    "lambda_c"
   ]
  },
  {
   "cell_type": "code",
   "execution_count": 41,
   "metadata": {},
   "outputs": [
    {
     "name": "stdout",
     "output_type": "stream",
     "text": [
      "[[ 100.         1746.62519294]\n",
      " [ 100.           83.44679846]\n",
      " [ 100.          358.94637033]\n",
      " [   0.            0.        ]]\n"
     ]
    }
   ],
   "source": [
    "# Get initial conditions for photophilic strain\n",
    "\n",
    "initial_sol = solve_ivp(odefun, [0, 10000], [100, 100, 100, 0], args=(lambda_c, L_BLOOP), method='BDF', t_eval=[0, 10000], atol=1e-10, rtol=1e-10)\n",
    "print(initial_sol.y)\n"
   ]
  },
  {
   "cell_type": "code",
   "execution_count": 42,
   "metadata": {},
   "outputs": [
    {
     "data": {
      "text/plain": [
       "(0.0, 1.0)"
      ]
     },
     "execution_count": 42,
     "metadata": {},
     "output_type": "execute_result"
    },
    {
     "data": {
      "image/png": "[encoded data removed]",
      "text/plain": [
       "<Figure size 800x600 with 1 Axes>"
      ]
     },
     "metadata": {},
     "output_type": "display_data"
    }
   ],
   "source": [
    "# Integrate\n",
    "\n",
    "phi_p0 = 0.5\n",
    "tmax = 30 * 60\n",
    "\n",
    "L = 0\n",
    "\n",
    "init = initial_sol.y[:,-1]\n",
    "init[3] = phi_p0\n",
    "\n",
    "sol = solve_ivp(odefun, [0, tmax], init, args=(lambda_c, L), method='BDF', t_eval=np.linspace(0, tmax, 10000), atol=1e-6, rtol=1e-9)\n",
    "\n",
    "fig = plt.figure(figsize=(8, 6))\n",
    "ax = fig.add_subplot(111)\n",
    "ax.plot(sol.t / 60, sol.y[3,:], label=r'$\\phi_p$')\n",
    "ax.set_ylim([0, 1])"
   ]
  }
 ],
 "metadata": {
  "kernelspec": {
   "display_name": "Python 3 (ipykernel)",
   "language": "python",
   "name": "python3"
  },
  "language_info": {
   "codemirror_mode": {
    "name": "ipython",
    "version": 3
   },
   "file_extension": ".py",
   "mimetype": "text/x-python",
   "name": "python",
   "nbconvert_exporter": "python",
   "pygments_lexer": "ipython3",
   "version": "3.10.8"
  },
  "orig_nbformat": 4
 },
 "nbformat": 4,
 "nbformat_minor": 2
}
